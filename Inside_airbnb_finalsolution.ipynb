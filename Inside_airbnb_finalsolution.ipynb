{
  "nbformat": 4,
  "nbformat_minor": 0,
  "metadata": {
    "colab": {
      "provenance": []
    },
    "kernelspec": {
      "name": "python3",
      "display_name": "Python 3"
    },
    "language_info": {
      "name": "python"
    }
  },
  "cells": [
    {
      "cell_type": "code",
      "execution_count": null,
      "metadata": {
        "id": "XOw7BJFtRUn_"
      },
      "outputs": [],
      "source": [
        "import pandas as pd\n",
        "from sklearn.model_selection import train_test_split \n",
        "from keras.models import Sequential\n",
        "from keras.layers import Dense, Dropout, Activation, SimpleRNN\n",
        "from keras import optimizers\n",
        "import numpy as np\n",
        "from tensorflow.keras.preprocessing.sequence import pad_sequences\n",
        "from keras.preprocessing.text import Tokenizer\n",
        "from tensorflow.keras.utils import to_categorical\n",
        "from sklearn.metrics import accuracy_score"
      ]
    },
    {
      "cell_type": "code",
      "source": [
        "fields_listings = ['id', 'review_scores_rating']\n",
        "fields_reviews = ['listing_id', 'comments']\n",
        "\n",
        "df_listings = pd.read_csv('/content/listings.csv', skipinitialspace=True, usecols=fields_listings)\n",
        "df_reviews = pd.read_csv('/content/reviews.csv', skipinitialspace=True, usecols=fields_reviews)"
      ],
      "metadata": {
        "id": "EipIhJtVSBZL"
      },
      "execution_count": null,
      "outputs": []
    },
    {
      "cell_type": "code",
      "source": [
        "df_reviews = df_reviews.rename(columns={'listing_id': 'id'})\n",
        "print (df_reviews.head)\n",
        "print (df_listings.head)"
      ],
      "metadata": {
        "colab": {
          "base_uri": "https://localhost:8080/"
        },
        "id": "FIJvSbWzTX80",
        "outputId": "4e543539-90db-4791-efc8-12c8f2b57a40"
      },
      "execution_count": null,
      "outputs": [
        {
          "output_type": "stream",
          "name": "stdout",
          "text": [
            "<bound method NDFrame.head of                         id                                           comments\n",
            "0                     2818  Daniel is really cool. The place was nice and ...\n",
            "1                     2818  Daniel is the most amazing host! His place is ...\n",
            "2                     2818  We had such a great time in Amsterdam. Daniel ...\n",
            "3                     2818  Very professional operation. Room is very clea...\n",
            "4                     2818  Daniel is highly recommended.  He provided all...\n",
            "...                    ...                                                ...\n",
            "339800  824786788735749611                                                 חי\n",
            "339801  824786788735749611  apparement très agréable et pratique d’accès,l...\n",
            "339802  805134076304782677  Lo recomiendo 100 %, Joao es amable, esta siem...\n",
            "339803  805134076304782677  Wonderful apartment very close to the centre o...\n",
            "339804  805495658328856601  A truly found!! Such a lovely place and hospit...\n",
            "\n",
            "[339805 rows x 2 columns]>\n",
            "<bound method NDFrame.head of                       id  review_scores_rating\n",
            "0                   2818                  4.89\n",
            "1                 311124                  4.76\n",
            "2                 319985                  4.75\n",
            "3                 327285                  4.94\n",
            "4                 331946                  4.88\n",
            "...                  ...                   ...\n",
            "6993  842462220391708128                   NaN\n",
            "6994  842493348876281257                   NaN\n",
            "6995  842634905680862660                   NaN\n",
            "6996  842713539293550316                   NaN\n",
            "6997  842754604161195632                   NaN\n",
            "\n",
            "[6998 rows x 2 columns]>\n"
          ]
        }
      ]
    },
    {
      "cell_type": "code",
      "source": [
        "df_input = pd.merge(df_reviews, df_listings, left_on='id', right_on='id')\n",
        "df_input"
      ],
      "metadata": {
        "colab": {
          "base_uri": "https://localhost:8080/",
          "height": 423
        },
        "id": "YCdqS7lkTowk",
        "outputId": "92106f95-b407-43f0-c658-acdb46fe14b4"
      },
      "execution_count": null,
      "outputs": [
        {
          "output_type": "execute_result",
          "data": {
            "text/plain": [
              "                        id                                           comments  \\\n",
              "0                     2818  Daniel is really cool. The place was nice and ...   \n",
              "1                     2818  Daniel is the most amazing host! His place is ...   \n",
              "2                     2818  We had such a great time in Amsterdam. Daniel ...   \n",
              "3                     2818  Very professional operation. Room is very clea...   \n",
              "4                     2818  Daniel is highly recommended.  He provided all...   \n",
              "...                    ...                                                ...   \n",
              "339800  824786788735749611                                                 חי   \n",
              "339801  824786788735749611  apparement très agréable et pratique d’accès,l...   \n",
              "339802  805134076304782677  Lo recomiendo 100 %, Joao es amable, esta siem...   \n",
              "339803  805134076304782677  Wonderful apartment very close to the centre o...   \n",
              "339804  805495658328856601  A truly found!! Such a lovely place and hospit...   \n",
              "\n",
              "        review_scores_rating  \n",
              "0                       4.89  \n",
              "1                       4.89  \n",
              "2                       4.89  \n",
              "3                       4.89  \n",
              "4                       4.89  \n",
              "...                      ...  \n",
              "339800                  5.00  \n",
              "339801                  5.00  \n",
              "339802                  5.00  \n",
              "339803                  5.00  \n",
              "339804                  5.00  \n",
              "\n",
              "[339805 rows x 3 columns]"
            ],
            "text/html": [
              "\n",
              "  <div id=\"df-663867e1-ba78-45b6-a42d-d7de4b7abe35\">\n",
              "    <div class=\"colab-df-container\">\n",
              "      <div>\n",
              "<style scoped>\n",
              "    .dataframe tbody tr th:only-of-type {\n",
              "        vertical-align: middle;\n",
              "    }\n",
              "\n",
              "    .dataframe tbody tr th {\n",
              "        vertical-align: top;\n",
              "    }\n",
              "\n",
              "    .dataframe thead th {\n",
              "        text-align: right;\n",
              "    }\n",
              "</style>\n",
              "<table border=\"1\" class=\"dataframe\">\n",
              "  <thead>\n",
              "    <tr style=\"text-align: right;\">\n",
              "      <th></th>\n",
              "      <th>id</th>\n",
              "      <th>comments</th>\n",
              "      <th>review_scores_rating</th>\n",
              "    </tr>\n",
              "  </thead>\n",
              "  <tbody>\n",
              "    <tr>\n",
              "      <th>0</th>\n",
              "      <td>2818</td>\n",
              "      <td>Daniel is really cool. The place was nice and ...</td>\n",
              "      <td>4.89</td>\n",
              "    </tr>\n",
              "    <tr>\n",
              "      <th>1</th>\n",
              "      <td>2818</td>\n",
              "      <td>Daniel is the most amazing host! His place is ...</td>\n",
              "      <td>4.89</td>\n",
              "    </tr>\n",
              "    <tr>\n",
              "      <th>2</th>\n",
              "      <td>2818</td>\n",
              "      <td>We had such a great time in Amsterdam. Daniel ...</td>\n",
              "      <td>4.89</td>\n",
              "    </tr>\n",
              "    <tr>\n",
              "      <th>3</th>\n",
              "      <td>2818</td>\n",
              "      <td>Very professional operation. Room is very clea...</td>\n",
              "      <td>4.89</td>\n",
              "    </tr>\n",
              "    <tr>\n",
              "      <th>4</th>\n",
              "      <td>2818</td>\n",
              "      <td>Daniel is highly recommended.  He provided all...</td>\n",
              "      <td>4.89</td>\n",
              "    </tr>\n",
              "    <tr>\n",
              "      <th>...</th>\n",
              "      <td>...</td>\n",
              "      <td>...</td>\n",
              "      <td>...</td>\n",
              "    </tr>\n",
              "    <tr>\n",
              "      <th>339800</th>\n",
              "      <td>824786788735749611</td>\n",
              "      <td>חי</td>\n",
              "      <td>5.00</td>\n",
              "    </tr>\n",
              "    <tr>\n",
              "      <th>339801</th>\n",
              "      <td>824786788735749611</td>\n",
              "      <td>apparement très agréable et pratique d’accès,l...</td>\n",
              "      <td>5.00</td>\n",
              "    </tr>\n",
              "    <tr>\n",
              "      <th>339802</th>\n",
              "      <td>805134076304782677</td>\n",
              "      <td>Lo recomiendo 100 %, Joao es amable, esta siem...</td>\n",
              "      <td>5.00</td>\n",
              "    </tr>\n",
              "    <tr>\n",
              "      <th>339803</th>\n",
              "      <td>805134076304782677</td>\n",
              "      <td>Wonderful apartment very close to the centre o...</td>\n",
              "      <td>5.00</td>\n",
              "    </tr>\n",
              "    <tr>\n",
              "      <th>339804</th>\n",
              "      <td>805495658328856601</td>\n",
              "      <td>A truly found!! Such a lovely place and hospit...</td>\n",
              "      <td>5.00</td>\n",
              "    </tr>\n",
              "  </tbody>\n",
              "</table>\n",
              "<p>339805 rows × 3 columns</p>\n",
              "</div>\n",
              "      <button class=\"colab-df-convert\" onclick=\"convertToInteractive('df-663867e1-ba78-45b6-a42d-d7de4b7abe35')\"\n",
              "              title=\"Convert this dataframe to an interactive table.\"\n",
              "              style=\"display:none;\">\n",
              "        \n",
              "  <svg xmlns=\"http://www.w3.org/2000/svg\" height=\"24px\"viewBox=\"0 0 24 24\"\n",
              "       width=\"24px\">\n",
              "    <path d=\"M0 0h24v24H0V0z\" fill=\"none\"/>\n",
              "    <path d=\"M18.56 5.44l.94 2.06.94-2.06 2.06-.94-2.06-.94-.94-2.06-.94 2.06-2.06.94zm-11 1L8.5 8.5l.94-2.06 2.06-.94-2.06-.94L8.5 2.5l-.94 2.06-2.06.94zm10 10l.94 2.06.94-2.06 2.06-.94-2.06-.94-.94-2.06-.94 2.06-2.06.94z\"/><path d=\"M17.41 7.96l-1.37-1.37c-.4-.4-.92-.59-1.43-.59-.52 0-1.04.2-1.43.59L10.3 9.45l-7.72 7.72c-.78.78-.78 2.05 0 2.83L4 21.41c.39.39.9.59 1.41.59.51 0 1.02-.2 1.41-.59l7.78-7.78 2.81-2.81c.8-.78.8-2.07 0-2.86zM5.41 20L4 18.59l7.72-7.72 1.47 1.35L5.41 20z\"/>\n",
              "  </svg>\n",
              "      </button>\n",
              "      \n",
              "  <style>\n",
              "    .colab-df-container {\n",
              "      display:flex;\n",
              "      flex-wrap:wrap;\n",
              "      gap: 12px;\n",
              "    }\n",
              "\n",
              "    .colab-df-convert {\n",
              "      background-color: #E8F0FE;\n",
              "      border: none;\n",
              "      border-radius: 50%;\n",
              "      cursor: pointer;\n",
              "      display: none;\n",
              "      fill: #1967D2;\n",
              "      height: 32px;\n",
              "      padding: 0 0 0 0;\n",
              "      width: 32px;\n",
              "    }\n",
              "\n",
              "    .colab-df-convert:hover {\n",
              "      background-color: #E2EBFA;\n",
              "      box-shadow: 0px 1px 2px rgba(60, 64, 67, 0.3), 0px 1px 3px 1px rgba(60, 64, 67, 0.15);\n",
              "      fill: #174EA6;\n",
              "    }\n",
              "\n",
              "    [theme=dark] .colab-df-convert {\n",
              "      background-color: #3B4455;\n",
              "      fill: #D2E3FC;\n",
              "    }\n",
              "\n",
              "    [theme=dark] .colab-df-convert:hover {\n",
              "      background-color: #434B5C;\n",
              "      box-shadow: 0px 1px 3px 1px rgba(0, 0, 0, 0.15);\n",
              "      filter: drop-shadow(0px 1px 2px rgba(0, 0, 0, 0.3));\n",
              "      fill: #FFFFFF;\n",
              "    }\n",
              "  </style>\n",
              "\n",
              "      <script>\n",
              "        const buttonEl =\n",
              "          document.querySelector('#df-663867e1-ba78-45b6-a42d-d7de4b7abe35 button.colab-df-convert');\n",
              "        buttonEl.style.display =\n",
              "          google.colab.kernel.accessAllowed ? 'block' : 'none';\n",
              "\n",
              "        async function convertToInteractive(key) {\n",
              "          const element = document.querySelector('#df-663867e1-ba78-45b6-a42d-d7de4b7abe35');\n",
              "          const dataTable =\n",
              "            await google.colab.kernel.invokeFunction('convertToInteractive',\n",
              "                                                     [key], {});\n",
              "          if (!dataTable) return;\n",
              "\n",
              "          const docLinkHtml = 'Like what you see? Visit the ' +\n",
              "            '<a target=\"_blank\" href=https://colab.research.google.com/notebooks/data_table.ipynb>data table notebook</a>'\n",
              "            + ' to learn more about interactive tables.';\n",
              "          element.innerHTML = '';\n",
              "          dataTable['output_type'] = 'display_data';\n",
              "          await google.colab.output.renderOutput(dataTable, element);\n",
              "          const docLink = document.createElement('div');\n",
              "          docLink.innerHTML = docLinkHtml;\n",
              "          element.appendChild(docLink);\n",
              "        }\n",
              "      </script>\n",
              "    </div>\n",
              "  </div>\n",
              "  "
            ]
          },
          "metadata": {},
          "execution_count": 6
        }
      ]
    },
    {
      "cell_type": "code",
      "source": [
        "df_input['review_scores_rating'] = df_input['review_scores_rating']//1\n",
        "df_input['review_scores_rating']=df_input['review_scores_rating'].astype('int')\n",
        "df_input['comments']=df_input['comments'].astype('str')\n",
        "df_input"
      ],
      "metadata": {
        "colab": {
          "base_uri": "https://localhost:8080/",
          "height": 423
        },
        "id": "h53H8OLh2osD",
        "outputId": "f122b3a6-8a1f-4435-f982-508b25ecb8fc"
      },
      "execution_count": null,
      "outputs": [
        {
          "output_type": "execute_result",
          "data": {
            "text/plain": [
              "                        id                                           comments  \\\n",
              "0                     2818  Daniel is really cool. The place was nice and ...   \n",
              "1                     2818  Daniel is the most amazing host! His place is ...   \n",
              "2                     2818  We had such a great time in Amsterdam. Daniel ...   \n",
              "3                     2818  Very professional operation. Room is very clea...   \n",
              "4                     2818  Daniel is highly recommended.  He provided all...   \n",
              "...                    ...                                                ...   \n",
              "339800  824786788735749611                                                 חי   \n",
              "339801  824786788735749611  apparement très agréable et pratique d’accès,l...   \n",
              "339802  805134076304782677  Lo recomiendo 100 %, Joao es amable, esta siem...   \n",
              "339803  805134076304782677  Wonderful apartment very close to the centre o...   \n",
              "339804  805495658328856601  A truly found!! Such a lovely place and hospit...   \n",
              "\n",
              "        review_scores_rating  \n",
              "0                          4  \n",
              "1                          4  \n",
              "2                          4  \n",
              "3                          4  \n",
              "4                          4  \n",
              "...                      ...  \n",
              "339800                     5  \n",
              "339801                     5  \n",
              "339802                     5  \n",
              "339803                     5  \n",
              "339804                     5  \n",
              "\n",
              "[339805 rows x 3 columns]"
            ],
            "text/html": [
              "\n",
              "  <div id=\"df-769ce3dd-d963-4f8f-8809-d6c2292c1bc9\">\n",
              "    <div class=\"colab-df-container\">\n",
              "      <div>\n",
              "<style scoped>\n",
              "    .dataframe tbody tr th:only-of-type {\n",
              "        vertical-align: middle;\n",
              "    }\n",
              "\n",
              "    .dataframe tbody tr th {\n",
              "        vertical-align: top;\n",
              "    }\n",
              "\n",
              "    .dataframe thead th {\n",
              "        text-align: right;\n",
              "    }\n",
              "</style>\n",
              "<table border=\"1\" class=\"dataframe\">\n",
              "  <thead>\n",
              "    <tr style=\"text-align: right;\">\n",
              "      <th></th>\n",
              "      <th>id</th>\n",
              "      <th>comments</th>\n",
              "      <th>review_scores_rating</th>\n",
              "    </tr>\n",
              "  </thead>\n",
              "  <tbody>\n",
              "    <tr>\n",
              "      <th>0</th>\n",
              "      <td>2818</td>\n",
              "      <td>Daniel is really cool. The place was nice and ...</td>\n",
              "      <td>4</td>\n",
              "    </tr>\n",
              "    <tr>\n",
              "      <th>1</th>\n",
              "      <td>2818</td>\n",
              "      <td>Daniel is the most amazing host! His place is ...</td>\n",
              "      <td>4</td>\n",
              "    </tr>\n",
              "    <tr>\n",
              "      <th>2</th>\n",
              "      <td>2818</td>\n",
              "      <td>We had such a great time in Amsterdam. Daniel ...</td>\n",
              "      <td>4</td>\n",
              "    </tr>\n",
              "    <tr>\n",
              "      <th>3</th>\n",
              "      <td>2818</td>\n",
              "      <td>Very professional operation. Room is very clea...</td>\n",
              "      <td>4</td>\n",
              "    </tr>\n",
              "    <tr>\n",
              "      <th>4</th>\n",
              "      <td>2818</td>\n",
              "      <td>Daniel is highly recommended.  He provided all...</td>\n",
              "      <td>4</td>\n",
              "    </tr>\n",
              "    <tr>\n",
              "      <th>...</th>\n",
              "      <td>...</td>\n",
              "      <td>...</td>\n",
              "      <td>...</td>\n",
              "    </tr>\n",
              "    <tr>\n",
              "      <th>339800</th>\n",
              "      <td>824786788735749611</td>\n",
              "      <td>חי</td>\n",
              "      <td>5</td>\n",
              "    </tr>\n",
              "    <tr>\n",
              "      <th>339801</th>\n",
              "      <td>824786788735749611</td>\n",
              "      <td>apparement très agréable et pratique d’accès,l...</td>\n",
              "      <td>5</td>\n",
              "    </tr>\n",
              "    <tr>\n",
              "      <th>339802</th>\n",
              "      <td>805134076304782677</td>\n",
              "      <td>Lo recomiendo 100 %, Joao es amable, esta siem...</td>\n",
              "      <td>5</td>\n",
              "    </tr>\n",
              "    <tr>\n",
              "      <th>339803</th>\n",
              "      <td>805134076304782677</td>\n",
              "      <td>Wonderful apartment very close to the centre o...</td>\n",
              "      <td>5</td>\n",
              "    </tr>\n",
              "    <tr>\n",
              "      <th>339804</th>\n",
              "      <td>805495658328856601</td>\n",
              "      <td>A truly found!! Such a lovely place and hospit...</td>\n",
              "      <td>5</td>\n",
              "    </tr>\n",
              "  </tbody>\n",
              "</table>\n",
              "<p>339805 rows × 3 columns</p>\n",
              "</div>\n",
              "      <button class=\"colab-df-convert\" onclick=\"convertToInteractive('df-769ce3dd-d963-4f8f-8809-d6c2292c1bc9')\"\n",
              "              title=\"Convert this dataframe to an interactive table.\"\n",
              "              style=\"display:none;\">\n",
              "        \n",
              "  <svg xmlns=\"http://www.w3.org/2000/svg\" height=\"24px\"viewBox=\"0 0 24 24\"\n",
              "       width=\"24px\">\n",
              "    <path d=\"M0 0h24v24H0V0z\" fill=\"none\"/>\n",
              "    <path d=\"M18.56 5.44l.94 2.06.94-2.06 2.06-.94-2.06-.94-.94-2.06-.94 2.06-2.06.94zm-11 1L8.5 8.5l.94-2.06 2.06-.94-2.06-.94L8.5 2.5l-.94 2.06-2.06.94zm10 10l.94 2.06.94-2.06 2.06-.94-2.06-.94-.94-2.06-.94 2.06-2.06.94z\"/><path d=\"M17.41 7.96l-1.37-1.37c-.4-.4-.92-.59-1.43-.59-.52 0-1.04.2-1.43.59L10.3 9.45l-7.72 7.72c-.78.78-.78 2.05 0 2.83L4 21.41c.39.39.9.59 1.41.59.51 0 1.02-.2 1.41-.59l7.78-7.78 2.81-2.81c.8-.78.8-2.07 0-2.86zM5.41 20L4 18.59l7.72-7.72 1.47 1.35L5.41 20z\"/>\n",
              "  </svg>\n",
              "      </button>\n",
              "      \n",
              "  <style>\n",
              "    .colab-df-container {\n",
              "      display:flex;\n",
              "      flex-wrap:wrap;\n",
              "      gap: 12px;\n",
              "    }\n",
              "\n",
              "    .colab-df-convert {\n",
              "      background-color: #E8F0FE;\n",
              "      border: none;\n",
              "      border-radius: 50%;\n",
              "      cursor: pointer;\n",
              "      display: none;\n",
              "      fill: #1967D2;\n",
              "      height: 32px;\n",
              "      padding: 0 0 0 0;\n",
              "      width: 32px;\n",
              "    }\n",
              "\n",
              "    .colab-df-convert:hover {\n",
              "      background-color: #E2EBFA;\n",
              "      box-shadow: 0px 1px 2px rgba(60, 64, 67, 0.3), 0px 1px 3px 1px rgba(60, 64, 67, 0.15);\n",
              "      fill: #174EA6;\n",
              "    }\n",
              "\n",
              "    [theme=dark] .colab-df-convert {\n",
              "      background-color: #3B4455;\n",
              "      fill: #D2E3FC;\n",
              "    }\n",
              "\n",
              "    [theme=dark] .colab-df-convert:hover {\n",
              "      background-color: #434B5C;\n",
              "      box-shadow: 0px 1px 3px 1px rgba(0, 0, 0, 0.15);\n",
              "      filter: drop-shadow(0px 1px 2px rgba(0, 0, 0, 0.3));\n",
              "      fill: #FFFFFF;\n",
              "    }\n",
              "  </style>\n",
              "\n",
              "      <script>\n",
              "        const buttonEl =\n",
              "          document.querySelector('#df-769ce3dd-d963-4f8f-8809-d6c2292c1bc9 button.colab-df-convert');\n",
              "        buttonEl.style.display =\n",
              "          google.colab.kernel.accessAllowed ? 'block' : 'none';\n",
              "\n",
              "        async function convertToInteractive(key) {\n",
              "          const element = document.querySelector('#df-769ce3dd-d963-4f8f-8809-d6c2292c1bc9');\n",
              "          const dataTable =\n",
              "            await google.colab.kernel.invokeFunction('convertToInteractive',\n",
              "                                                     [key], {});\n",
              "          if (!dataTable) return;\n",
              "\n",
              "          const docLinkHtml = 'Like what you see? Visit the ' +\n",
              "            '<a target=\"_blank\" href=https://colab.research.google.com/notebooks/data_table.ipynb>data table notebook</a>'\n",
              "            + ' to learn more about interactive tables.';\n",
              "          element.innerHTML = '';\n",
              "          dataTable['output_type'] = 'display_data';\n",
              "          await google.colab.output.renderOutput(dataTable, element);\n",
              "          const docLink = document.createElement('div');\n",
              "          docLink.innerHTML = docLinkHtml;\n",
              "          element.appendChild(docLink);\n",
              "        }\n",
              "      </script>\n",
              "    </div>\n",
              "  </div>\n",
              "  "
            ]
          },
          "metadata": {},
          "execution_count": 23
        }
      ]
    },
    {
      "cell_type": "code",
      "source": [
        "df_input['review_scores_rating'].value_counts()"
      ],
      "metadata": {
        "colab": {
          "base_uri": "https://localhost:8080/"
        },
        "id": "cRI3wc8ywy5d",
        "outputId": "0a3c096a-91e3-4f92-f8eb-608fdc51a900"
      },
      "execution_count": null,
      "outputs": [
        {
          "output_type": "execute_result",
          "data": {
            "text/plain": [
              "4    325357\n",
              "5     14104\n",
              "3       321\n",
              "2        14\n",
              "1         5\n",
              "0         4\n",
              "Name: review_scores_rating, dtype: int64"
            ]
          },
          "metadata": {},
          "execution_count": 114
        }
      ]
    },
    {
      "cell_type": "code",
      "source": [
        "X_train, X_test, y_train, y_test = train_test_split(df_input['comments'], df_input['review_scores_rating'], test_size=0.2, random_state=101)"
      ],
      "metadata": {
        "id": "D4CO2c2pk_x2"
      },
      "execution_count": null,
      "outputs": []
    },
    {
      "cell_type": "code",
      "source": [
        "print(X_train[3])\n",
        "print(y_train[3])"
      ],
      "metadata": {
        "colab": {
          "base_uri": "https://localhost:8080/"
        },
        "id": "hagF7aMXLcrj",
        "outputId": "52b57c35-3586-4d10-fd09-f738d62b8795"
      },
      "execution_count": null,
      "outputs": [
        {
          "output_type": "stream",
          "name": "stdout",
          "text": [
            "Very professional operation. Room is very clean and comfortable. Location is close to tram or bus which take you to most of attractions. A great and helpful host who want to ensure you enjoy your stay.  \n",
            "4\n"
          ]
        }
      ]
    },
    {
      "cell_type": "code",
      "source": [
        "print('X train shape', X_train.shape)\n",
        "print('y train shape', y_train.shape)\n",
        "print('X test shape', X_test.shape)\n",
        "print('y test shape', y_test.shape)"
      ],
      "metadata": {
        "colab": {
          "base_uri": "https://localhost:8080/"
        },
        "id": "x4LmEThajWdk",
        "outputId": "0900b693-09a8-40d7-ede0-148722e2a167"
      },
      "execution_count": null,
      "outputs": [
        {
          "output_type": "stream",
          "name": "stdout",
          "text": [
            "X train shape (271844,)\n",
            "y train shape (271844,)\n",
            "X test shape (67961,)\n",
            "y test shape (67961,)\n"
          ]
        }
      ]
    },
    {
      "cell_type": "code",
      "source": [
        "import seaborn as sns\n",
        "import matplotlib.pyplot as plt\n",
        "%matplotlib inline\n",
        "plt.figure();\n",
        "sns.countplot(y_test);\n",
        "plt.xlabel(\"ratings\");\n",
        "plt.ylabel(\"numbers\");\n",
        "plt.title(\"Classes in train\");"
      ],
      "metadata": {
        "colab": {
          "base_uri": "https://localhost:8080/",
          "height": 472
        },
        "id": "qIwNwttdupbi",
        "outputId": "9cfd7238-2b67-4c20-b9fa-fdb8c0aed1f3"
      },
      "execution_count": null,
      "outputs": [
        {
          "output_type": "display_data",
          "data": {
            "text/plain": [
              "<Figure size 640x480 with 1 Axes>"
            ],
            "image/png": "[encoded data removed]"
          },
          "metadata": {}
        }
      ]
    },
    {
      "cell_type": "code",
      "source": [
        "tokenizer = Tokenizer(num_words=1000, lower=True)\n",
        "tokenizer.fit_on_texts(X_train)\n",
        "\n",
        "X_train = tokenizer.texts_to_sequences(X_train)\n",
        "X_test = tokenizer.texts_to_sequences(X_test)"
      ],
      "metadata": {
        "id": "eT_7W2uVJk__"
      },
      "execution_count": null,
      "outputs": []
    },
    {
      "cell_type": "code",
      "source": [
        "vocab_size = len(tokenizer.word_index)+1"
      ],
      "metadata": {
        "id": "gmKusj53OYA7"
      },
      "execution_count": null,
      "outputs": []
    },
    {
      "cell_type": "code",
      "source": [
        "print(X_train[3])\n",
        "print(y_train[3])"
      ],
      "metadata": {
        "colab": {
          "base_uri": "https://localhost:8080/"
        },
        "id": "Oqf5iI4pOrbu",
        "outputId": "2494f41d-1361-4933-c37e-d7d9b12f213a"
      },
      "execution_count": null,
      "outputs": [
        {
          "output_type": "stream",
          "name": "stdout",
          "text": [
            "[27, 6, 3, 16, 4, 14, 2, 1, 21, 6, 12, 682, 13, 184, 10, 145]\n",
            "4\n"
          ]
        }
      ]
    },
    {
      "cell_type": "code",
      "source": [
        "max_length = 100\n",
        "X_train = pad_sequences(X_train,padding='post',maxlen=max_length)\n",
        "X_test = pad_sequences(X_test,padding='post',maxlen=max_length)\n",
        "print(X_train[3,:])"
      ],
      "metadata": {
        "colab": {
          "base_uri": "https://localhost:8080/"
        },
        "id": "pHODq_zAPZDy",
        "outputId": "e80945b2-ee20-4742-9d36-7b5abd403ef6"
      },
      "execution_count": null,
      "outputs": [
        {
          "output_type": "stream",
          "name": "stdout",
          "text": [
            "[ 27   6   3  16   4  14   2   1  21   6  12 682  13 184  10 145   0   0\n",
            "   0   0   0   0   0   0   0   0   0   0   0   0   0   0   0   0   0   0\n",
            "   0   0   0   0   0   0   0   0   0   0   0   0   0   0   0   0   0   0\n",
            "   0   0   0   0   0   0   0   0   0   0   0   0   0   0   0   0   0   0\n",
            "   0   0   0   0   0   0   0   0   0   0   0   0   0   0   0   0   0   0\n",
            "   0   0   0   0   0   0   0   0   0   0]\n"
          ]
        }
      ]
    },
    {
      "cell_type": "code",
      "source": [
        "num_of_classes = 6\n",
        "y_train = to_categorical(y_train, num_of_classes)\n",
        "y_test = to_categorical(y_test, num_of_classes)\n",
        "print(y_train.shape)\n",
        "print(y_train[0])"
      ],
      "metadata": {
        "colab": {
          "base_uri": "https://localhost:8080/"
        },
        "id": "x2W6KYZ5U4FN",
        "outputId": "7e0f26ff-d474-4de2-ada7-04c98d7ab22c"
      },
      "execution_count": null,
      "outputs": [
        {
          "output_type": "stream",
          "name": "stdout",
          "text": [
            "(271844, 6)\n",
            "[0. 0. 0. 0. 1. 0.]\n"
          ]
        }
      ]
    },
    {
      "cell_type": "code",
      "source": [
        "X_train = np.array(X_train).reshape(X_train.shape[0],X_train.shape[1],1)\n",
        "X_test = np.array(X_test).reshape(X_test.shape[0],X_test.shape[1],1)\n",
        "\n",
        "print('X train shape', X_train.shape)\n",
        "print('X test shape', X_test.shape)"
      ],
      "metadata": {
        "colab": {
          "base_uri": "https://localhost:8080/"
        },
        "id": "orQhATtfVzFI",
        "outputId": "df20f05b-c569-432f-b7fe-c343605adb84"
      },
      "execution_count": null,
      "outputs": [
        {
          "output_type": "stream",
          "name": "stdout",
          "text": [
            "X train shape (271844, 100, 1)\n",
            "X test shape (67961, 100, 1)\n"
          ]
        }
      ]
    },
    {
      "cell_type": "code",
      "source": [
        "num_classes=6\n",
        "def buildRNN():\n",
        "    model=Sequential()\n",
        "    model.add(SimpleRNN(50,input_shape=(max_length,1),return_sequences=False))\n",
        "    model.add(Dense(num_classes))\n",
        "    model.add(Activation('Softmax'))\n",
        "    model.summary()\n",
        "    adam=optimizers.Adam(lr=0.001)\n",
        "    model.compile(loss='categorical_crossentropy',optimizer=adam,metrics=['accuracy'])\n",
        "    return model"
      ],
      "metadata": {
        "id": "52_2yMMYXb1g"
      },
      "execution_count": null,
      "outputs": []
    },
    {
      "cell_type": "code",
      "source": [
        "model=KerasClassifier(build_fn=buildRNN,epochs=5,batch_size=50)"
      ],
      "metadata": {
        "colab": {
          "base_uri": "https://localhost:8080/"
        },
        "id": "MXOpLv84Y6xN",
        "outputId": "9d4bf226-db38-487d-d6c3-3f0af9183e79"
      },
      "execution_count": null,
      "outputs": [
        {
          "output_type": "stream",
          "name": "stderr",
          "text": [
            "<ipython-input-80-40f37a82bb1c>:2: DeprecationWarning: KerasClassifier is deprecated, use Sci-Keras (https://github.com/adriangb/scikeras) instead. See https://www.adriangb.com/scikeras/stable/migration.html for help migrating.\n",
            "  model=KerasClassifier(build_fn=RNNModel,epochs=5,batch_size=50)\n"
          ]
        }
      ]
    },
    {
      "cell_type": "code",
      "source": [
        "model.fit(X_train,y_train)"
      ],
      "metadata": {
        "colab": {
          "base_uri": "https://localhost:8080/"
        },
        "id": "DuFcnWEkZw29",
        "outputId": "8cded67c-2c46-4ff0-d5cb-151c0d32b9f9"
      },
      "execution_count": null,
      "outputs": [
        {
          "metadata": {
            "tags": null
          },
          "name": "stdout",
          "output_type": "stream",
          "text": [
            "Model: \"sequential_4\"\n",
            "_________________________________________________________________\n",
            " Layer (type)                Output Shape              Param #   \n",
            "=================================================================\n",
            " simple_rnn_3 (SimpleRNN)    (None, 50)                2600      \n",
            "                                                                 \n",
            " dense_3 (Dense)             (None, 6)                 306       \n",
            "                                                                 \n",
            " activation_3 (Activation)   (None, 6)                 0         \n",
            "                                                                 \n",
            "=================================================================\n",
            "Total params: 2,906\n",
            "Trainable params: 2,906\n",
            "Non-trainable params: 0\n",
            "_________________________________________________________________\n"
          ]
        },
        {
          "metadata": {
            "tags": null
          },
          "name": "stderr",
          "output_type": "stream",
          "text": [
            "/usr/local/lib/python3.9/dist-packages/keras/optimizers/legacy/adam.py:117: UserWarning: The `lr` argument is deprecated, use `learning_rate` instead.\n",
            "  super().__init__(name, **kwargs)\n"
          ]
        },
        {
          "output_type": "stream",
          "name": "stdout",
          "text": [
            "Epoch 1/5\n",
            "5437/5437 [==============================] - 127s 23ms/step - loss: 0.1858 - accuracy: 0.9569\n",
            "Epoch 2/5\n",
            "5437/5437 [==============================] - 124s 23ms/step - loss: 0.1816 - accuracy: 0.9575\n",
            "Epoch 3/5\n",
            "5437/5437 [==============================] - 124s 23ms/step - loss: 0.1817 - accuracy: 0.9575\n",
            "Epoch 4/5\n",
            "5437/5437 [==============================] - 124s 23ms/step - loss: 0.1816 - accuracy: 0.9575\n",
            "Epoch 5/5\n",
            "5437/5437 [==============================] - 122s 22ms/step - loss: 0.1876 - accuracy: 0.9564\n"
          ]
        },
        {
          "output_type": "execute_result",
          "data": {
            "text/plain": [
              "<keras.callbacks.History at 0x7f74b8c51430>"
            ]
          },
          "metadata": {},
          "execution_count": 81
        }
      ]
    },
    {
      "cell_type": "code",
      "source": [
        "y_pred=model.predict(X_test)\n",
        "Y_test_=np.argmax(y_test,axis=1)\n",
        "print(\"Accuracy of the model is: \",accuracy_score(y_pred,Y_test_))"
      ],
      "metadata": {
        "colab": {
          "base_uri": "https://localhost:8080/"
        },
        "id": "WCFHJePUe1LA",
        "outputId": "b090e950-df03-4548-c8da-3f2357d76977"
      },
      "execution_count": null,
      "outputs": [
        {
          "output_type": "stream",
          "name": "stdout",
          "text": [
            "2124/2124 [==============================] - 18s 8ms/step\n",
            "Accuracy of the model is:  0.957431468047851\n"
          ]
        }
      ]
    },
    {
      "cell_type": "code",
      "source": [
        "#Method to feed the new data to predict\n",
        "def pred_sentiment(str1):\n",
        "  sent=[str1]\n",
        "  sent=tokenizer.texts_to_sequences(sent)\n",
        "  sent=np.array(sent)\n",
        "  sent=pad_sequences(sent,padding='post',maxlen=max_length)\n",
        "  sent=np.array(sent).reshape(sent.shape[0],sent.shape[1],1)\n",
        "  pred=model.predict(np.array(sent))\n",
        "  print(\"The rating of the review from 0 to 5 is: \",pred)"
      ],
      "metadata": {
        "id": "w2EbpcoEdM9T"
      },
      "execution_count": null,
      "outputs": []
    },
    {
      "cell_type": "code",
      "source": [
        "pred_sentiment(\"Perfect for a weekend getaway\")"
      ],
      "metadata": {
        "colab": {
          "base_uri": "https://localhost:8080/"
        },
        "id": "t6Ml2VhkdoOR",
        "outputId": "2c28cc83-7a69-4c68-d19a-27adafb42a89"
      },
      "execution_count": null,
      "outputs": [
        {
          "output_type": "stream",
          "name": "stdout",
          "text": [
            "1/1 [==============================] - 0s 74ms/step\n",
            "The rating of the review from 0 to 5 is:  [4]\n"
          ]
        }
      ]
    },
    {
      "cell_type": "code",
      "source": [
        "%%shell\n",
        "jupyter nbconvert --to html /PATH/TO/YOUR/NOTEBOOKFILE.ipynb"
      ],
      "metadata": {
        "id": "_4qPHeo1Gt40"
      },
      "execution_count": null,
      "outputs": []
    }
  ]
}